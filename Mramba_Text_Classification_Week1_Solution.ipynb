{
 "cells": [
  {
   "cell_type": "markdown",
   "metadata": {},
   "source": [
    "# Name: Mramba Gadi Nkalang'ango"
   ]
  },
  {
   "cell_type": "markdown",
   "metadata": {},
   "source": [
    "### NLP System Design:"
   ]
  },
  {
   "cell_type": "markdown",
   "metadata": {},
   "source": [
    "An early stage startup is building an app to classify tweets about financial news into five different categories (like mergers & acquisitions, earnings call, stock price movement etc.). They have 500 tweets labeled by hand with 100 tweets per category. \n",
    "They want to build a quick MVP of a text classifier that can categorize financial news tweets into one of their 5 categories. They want the best possible results with minimum effort, so that they can test the market with their product and decide if they need to change direction or double down and invest more in labeling data or building more sophisticated machine learning models etc. \n",
    "Assume they hired you as an NLP engineer.\n",
    "\n",
    "\n",
    "1)\tWhat would you do in week 1 by way of model, features, data etc. to build a quick and dirty categorizer whose predictions your manager might be interested in? More details the better. Please give us your justification for why you think this choice is most promising (reasons could come from your experience, experience of other NLP engineers, what you read online, your theoretical understanding etc.)?\n",
    "\n",
    "\n",
    "2)\tWhat are one or more promising options you’d possibly try in weeks 2, 3 and 4 which again have the potential to give a lot of accuracy improvement over what you built in week (1)? What is your justification for these choices?\n"
   ]
  },
  {
   "cell_type": "markdown",
   "metadata": {},
   "source": [
    "### Week 1 Solution:Text Classification Using Multinomial Naive Bayes Classification (MNB)"
   ]
  },
  {
   "cell_type": "markdown",
   "metadata": {},
   "source": [
    "### Classifying Text - Multinomial Naive Bayes Classification\n",
    "One place where multinomial naive Bayes is often used is in text classification, where the features are related to word counts or frequencies within the documents to be classified.Here we will use the sparse word count features from the 20 Newsgroups corpus to show how we might classify these short documents into categories."
   ]
  },
  {
   "cell_type": "code",
   "execution_count": 1,
   "metadata": {},
   "outputs": [],
   "source": [
    "# Downloading and describing the dataset\n",
    "from sklearn.datasets import fetch_20newsgroups\n",
    "text_data= fetch_20newsgroups()"
   ]
  },
  {
   "cell_type": "code",
   "execution_count": 2,
   "metadata": {},
   "outputs": [
    {
     "name": "stdout",
     "output_type": "stream",
     "text": [
      "Keys : \n",
      "dict_keys(['data', 'filenames', 'target_names', 'target', 'DESCR'])\n"
     ]
    },
    {
     "data": {
      "text/plain": [
       "['alt.atheism',\n",
       " 'comp.graphics',\n",
       " 'comp.os.ms-windows.misc',\n",
       " 'comp.sys.ibm.pc.hardware',\n",
       " 'comp.sys.mac.hardware',\n",
       " 'comp.windows.x',\n",
       " 'misc.forsale',\n",
       " 'rec.autos',\n",
       " 'rec.motorcycles',\n",
       " 'rec.sport.baseball',\n",
       " 'rec.sport.hockey',\n",
       " 'sci.crypt',\n",
       " 'sci.electronics',\n",
       " 'sci.med',\n",
       " 'sci.space',\n",
       " 'soc.religion.christian',\n",
       " 'talk.politics.guns',\n",
       " 'talk.politics.mideast',\n",
       " 'talk.politics.misc',\n",
       " 'talk.religion.misc']"
      ]
     },
     "execution_count": 2,
     "metadata": {},
     "output_type": "execute_result"
    }
   ],
   "source": [
    "print(\"Keys : \\n{}\".format(text_data.keys()))\n",
    "text_data.target_names\n"
   ]
  },
  {
   "cell_type": "code",
   "execution_count": 3,
   "metadata": {},
   "outputs": [
    {
     "data": {
      "text/plain": [
       "[\"From: lerxst@wam.umd.edu (where's my thing)\\nSubject: WHAT car is this!?\\nNntp-Posting-Host: rac3.wam.umd.edu\\nOrganization: University of Maryland, College Park\\nLines: 15\\n\\n I was wondering if anyone out there could enlighten me on this car I saw\\nthe other day. It was a 2-door sports car, looked to be from the late 60s/\\nearly 70s. It was called a Bricklin. The doors were really small. In addition,\\nthe front bumper was separate from the rest of the body. This is \\nall I know. If anyone can tellme a model name, engine specs, years\\nof production, where this car is made, history, or whatever info you\\nhave on this funky looking car, please e-mail.\\n\\nThanks,\\n- IL\\n   ---- brought to you by your neighborhood Lerxst ----\\n\\n\\n\\n\\n\"]"
      ]
     },
     "execution_count": 3,
     "metadata": {},
     "output_type": "execute_result"
    }
   ],
   "source": [
    "text_data.data[:1]"
   ]
  },
  {
   "cell_type": "code",
   "execution_count": 4,
   "metadata": {},
   "outputs": [
    {
     "name": "stdout",
     "output_type": "stream",
     "text": [
      "From: downey@homer.CS.Berkeley.EDU (Allen B. Downey)\n",
      "Subject: Re: Speeding ticket from CHP\n",
      "Organization: University of California, Berkeley\n",
      "Lines: 13\n",
      "Distribution: world\n",
      "NNTP-Posting-Host: homer.cs.berkeley.edu\n",
      "\n",
      "Paraphrase of initial post:\n",
      "\n",
      "\tCan I fight a speeding ticket in court?\n",
      "\n",
      "My reply:\n",
      "\n",
      "       Fight your ticket : California edition by David Brown 1st ed.\n",
      "       Berkeley, CA : Nolo Press, 1982\n",
      "\n",
      "The second edition is out (but not in UCB's library).  Good luck; let\n",
      "us know how it goes.\n",
      "\n",
      "ABD\n",
      "\n",
      "From: davet@interceptor.cds.tek.com (Dave Tharp CDS)\n",
      "Subject: Re: Looking for MOVIES w/ BIKES\n",
      "Organization: Tektronix - Colorado Data Systems, Englewood, CO\n",
      "Lines: 15\n",
      "\n",
      "\"Silver Dream Racer\" -- Frustrated Brit club racer's buddy dies,\n",
      "leaving him a built-in-garage \"revolutionary, experimental\" 500 GP bike.\n",
      "Brit club racer uses machine to beat Bad American on Bad Japanese\n",
      "Factory Bike at British GP.  Filmed at Silverstone, I believe.  Pretty\n",
      "bad.\n",
      "\n",
      "-----------------------------------------------------------------------------\n",
      "| Dave Tharp                      | DoD #0751   | \"You can't wear out       |\n",
      "| davet@interceptor.CDS.TEK.COM   | MRA #151    |   an Indian Scout,        |\n",
      "| '88 K75S  '48 Indian Chief      | AHRMA #751  |  Or its brother the Chief.|\n",
      "| '75 R90S(#151) '72 TR-2B(#751)  | AMA #524737 |  They're built like rocks |\n",
      "| '65 R50/2/Velorex  '57 NSU Max  |             |   to take the knocks,     |\n",
      "|       1936 BMW R12              | (Compulsive | It's the Harleys that     |\n",
      "| My employer has no idea.        |   Joiner)   |   give you grief.\"        |\n",
      "-----------------------------------------------------------------------------\n",
      "\n"
     ]
    }
   ],
   "source": [
    "#We will select just a few of these categories, and download the training and testing set:\n",
    "categories= ['sci.space','rec.sport.hockey','rec.motorcycles','rec.sport.baseball']\n",
    "train = fetch_20newsgroups(subset='train',categories= categories)\n",
    "test = fetch_20newsgroups(subset='test',categories=categories)\n",
    "print(train.data[5])\n",
    "print(test.data[5])"
   ]
  },
  {
   "cell_type": "markdown",
   "metadata": {},
   "source": [
    "#### In order to use this data for machine learning, we need to be able to convert the content of each string into a vector of numbers. For this we will use the TF-IDF vectorizer and create a pipeline that attaches it to a multinomial naive Bayes classifier:"
   ]
  },
  {
   "cell_type": "code",
   "execution_count": 5,
   "metadata": {},
   "outputs": [],
   "source": [
    "from sklearn.feature_extraction.text import TfidfVectorizer\n",
    "from sklearn.naive_bayes import MultinomialNB\n",
    "from sklearn.pipeline import make_pipeline\n",
    "\n",
    "model = make_pipeline(TfidfVectorizer(), MultinomialNB())\n"
   ]
  },
  {
   "cell_type": "code",
   "execution_count": 6,
   "metadata": {},
   "outputs": [],
   "source": [
    "model.fit(train.data,train.target)\n",
    "labels=model.predict(test.data)\n"
   ]
  },
  {
   "cell_type": "code",
   "execution_count": 7,
   "metadata": {},
   "outputs": [
    {
     "data": {
      "image/png": "[encoded data removed]",
      "text/plain": [
       "<Figure size 432x288 with 2 Axes>"
      ]
     },
     "metadata": {
      "needs_background": "light"
     },
     "output_type": "display_data"
    }
   ],
   "source": [
    "from sklearn.metrics import confusion_matrix\n",
    "import seaborn as sns\n",
    "import matplotlib.pyplot as plt\n",
    "mat = confusion_matrix(test.target, labels)\n",
    "sns.heatmap(mat.T, square=True, annot=True, fmt='d', cbar=True, cmap=\"YlGnBu\",vmin=3,vmax=8,\n",
    "            xticklabels=train.target_names, yticklabels=train.target_names)\n",
    "plt.xlabel('true label')\n",
    "plt.ylabel('predicted label')\n",
    "plt.show()"
   ]
  },
  {
   "cell_type": "markdown",
   "metadata": {},
   "source": [
    "We can see that our classifier works pretty well except for baseball and hockey as both are under sports category."
   ]
  },
  {
   "cell_type": "markdown",
   "metadata": {},
   "source": [
    "##### Lets try to predict text using the classifier"
   ]
  },
  {
   "cell_type": "code",
   "execution_count": 8,
   "metadata": {},
   "outputs": [],
   "source": [
    "def predict_category(s, train=train, model=model):\n",
    "    pred = model.predict([s])\n",
    "    return train.target_names[pred[0]]"
   ]
  },
  {
   "cell_type": "code",
   "execution_count": 9,
   "metadata": {},
   "outputs": [
    {
     "data": {
      "text/plain": [
       "'sci.space'"
      ]
     },
     "execution_count": 9,
     "metadata": {},
     "output_type": "execute_result"
    }
   ],
   "source": [
    "predict_category(\"rocket\")"
   ]
  },
  {
   "cell_type": "code",
   "execution_count": 10,
   "metadata": {},
   "outputs": [
    {
     "data": {
      "text/plain": [
       "'rec.motorcycles'"
      ]
     },
     "execution_count": 10,
     "metadata": {},
     "output_type": "execute_result"
    }
   ],
   "source": [
    "predict_category(\"I love to ride\")"
   ]
  },
  {
   "cell_type": "code",
   "execution_count": null,
   "metadata": {},
   "outputs": [],
   "source": []
  },
  {
   "cell_type": "code",
   "execution_count": null,
   "metadata": {},
   "outputs": [],
   "source": []
  }
 ],
 "metadata": {
  "kernelspec": {
   "display_name": "Python 3",
   "language": "python",
   "name": "python3"
  },
  "language_info": {
   "codemirror_mode": {
    "name": "ipython",
    "version": 3
   },
   "file_extension": ".py",
   "mimetype": "text/x-python",
   "name": "python",
   "nbconvert_exporter": "python",
   "pygments_lexer": "ipython3",
   "version": "3.8.3"
  }
 },
 "nbformat": 4,
 "nbformat_minor": 2
}
